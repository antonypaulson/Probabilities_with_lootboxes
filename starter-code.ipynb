{
 "cells": [
  {
   "cell_type": "markdown",
   "metadata": {},
   "source": [
    "# \"Fun with Loot Boxes\" Lab\n",
    "\n",
    "> Author: Caroline Schmitt, Matt Brems\n",
    "\n",
    "### Scenario:\n",
    "\n",
    "You're an analyst for [Zynga](https://en.wikipedia.org/wiki/Zynga), a gaming studio working on an event for an MMO (massively multiplayer online) game. This event is going to include **loot boxes**.\n",
    "\n",
    "<img src=\"https://vignette.wikia.nocookie.net/2007scape/images/0/06/Culinaromancer%27s_chest.png/revision/latest?cb=20180403231423\" alt=\"drawing\" width=\"150\"/> \n",
    "\n",
    "A loot box is basically a treasure chest in a game. This loot box can be opened to reveal a variety of items: some items are very rare and valuable, other items are common and less valuable. (You may consult [the esteemed Wikipedia](https://en.wikipedia.org/wiki/Loot_box) for a more extensive definition.)\n",
    "\n",
    "In our specific game, suppose that loot boxes can be obtained in one of two ways: \n",
    "- After every three hours of playing the game, a user will earn one loot box.\n",
    "- If the user wishes to purchase a loot box, they may pay $1 (in real money!) for a loot box.\n",
    "\n",
    "These loot boxes are very good for our business!\n",
    "- If a player earns a loot box, it means they are spending lots of time on the game. This often leads to advertisement revenue, they may tell their friends to join the game, etc.\n",
    "- If the player purchases a loot box, it means we've earned $1 from our customer.\n",
    "\n",
    "Suppose each loot box is opened to reveal either:\n",
    "- magical elixir (super rare, very valuable), or\n",
    "- nothing.\n",
    "\n",
    "Whether each loot box contains the elixir or nothing is **random**. Our boss wants some guidance on what sort of randomness to use on these loot boxes! \n",
    "- If the magical elixir is too rare, then users may not be motivated to try to get them, because they believe they'll never find the magical elixir.\n",
    "- If the magical elixir is too common, then users may not be motivated to try to get them, because the game has so much of the magical elixir that it isn't worthwhile to try to get it.\n",
    "\n",
    "However, our boss isn't a math-y type person! When explaining things to our boss, we need to explain the impact of our choices on the game as concretely as possible.\n",
    "\n",
    "### Version 1\n",
    "In our first version of the game, we'll say that loot boxes contain magical elixir 15% of the time and nothing 85% of the time.\n",
    "\n",
    "#### 1. Our boss asks, \"If a user buys 100 loot boxes, how many elixirs will they get?\" How would you respond?"
   ]
  },
  {
   "cell_type": "markdown",
   "metadata": {},
   "source": [
    "I would respond by telling him that there is a 15% chance of getting an elixr with every purchase. If the user buys 100 loot boxes this increases his chances and he might get 15 elixr's. \n",
    "\n",
    "\n",
    "\n",
    "**NOTE**: When your Jupyter notebook is open, double-click on this Markdown cell! You can delete this text and put your answer to the previous problem in here."
   ]
  },
  {
   "cell_type": "markdown",
   "metadata": {},
   "source": [
    "#### 2. Our boss asks, \"How many loot boxes does someone have to purchase in order to definitely get elixir?\" How would you respond?"
   ]
  },
  {
   "cell_type": "markdown",
   "metadata": {},
   "source": [
    "The probability of getting a lootbox is the highest when the user buys atleast 15 loot boxes. I would define definitely as 99.9999% assurance of an elixr. This can be found by using a binomial distribution. The cdf becomes 0.99 at 24 boxes and 0.999959 at boxes 30. Therefore I would say if u want a 99.9999% chance of getting an elixr buy atleast 30 boxes.\n"
   ]
  },
  {
   "cell_type": "code",
   "execution_count": 1,
   "metadata": {},
   "outputs": [],
   "source": [
    "#Importing Libraries\n",
    "from scipy import stats\n",
    "import matplotlib.pyplot as plt\n",
    "#Setting variable values\n",
    "prob_elixr = 0.15\n",
    "n_buys = 100\n",
    "\n",
    "#Setting the distribution\n",
    "elixr_dist = stats.binom(n_buys, prob_elixr)\n",
    "#probability mass function\n",
    "elixr_dist.pmf(100)\n",
    "elixr_outcomes = list(range(0,100))\n",
    "plt.bar(elixr_outcomes, elixr_dist.pmf(elixr_outcomes));\n",
    "plt.xlabel('Number of Elixrs');\n",
    "plt.ylabel('Probability of Elixr');"
   ]
  },
  {
   "cell_type": "code",
   "execution_count": 2,
   "metadata": {},
   "outputs": [
    {
     "data": {
      "text/plain": [
       "Text(0, 0.5, 'Cumulative Probability of Elixr')"
      ]
     },
     "execution_count": 2,
     "metadata": {},
     "output_type": "execute_result"
    },
    {
     "data": {
      "image/png": "[encoded data removed]",
      "text/plain": [
       "<Figure size 432x288 with 1 Axes>"
      ]
     },
     "metadata": {
      "needs_background": "light"
     },
     "output_type": "display_data"
    }
   ],
   "source": [
    "plt.step(elixr_outcomes, elixr_dist.cdf(elixr_outcomes));\n",
    "plt.xlabel('Number of Elixrs')\n",
    "plt.ylabel('Cumulative Probability of Elixr')"
   ]
  },
  {
   "cell_type": "markdown",
   "metadata": {},
   "source": [
    "#### 3. Our boss asks, \"If a user earns 100 loot boxes, what is the chance that a user gets more than 20 elixirs?\" This is a bit more complicated, so let's break it down before answering."
   ]
  },
  {
   "cell_type": "markdown",
   "metadata": {},
   "source": [
    "#### 3a. Let's suppose my random variable $X$ counts up how many elixirs I observe out of my 100 loot boxes. Why is $X$ a discrete random variable?"
   ]
  },
  {
   "cell_type": "markdown",
   "metadata": {},
   "source": [
    "X is a discrete random variable as it can be counted to the exact number\n",
    "\n",
    "**NOTE**: When your Jupyter notebook is open, double-click on this Markdown cell! You can delete this text and put your answer to the previous problem in here."
   ]
  },
  {
   "cell_type": "markdown",
   "metadata": {},
   "source": [
    "#### 3b. Recall our discrete distributions: discrete uniform, Bernoulli, binomial, Poisson. Let's suppose my random variable $X$ counts up how many elixirs I observe out of my 100 loot boxes. What distribution is best suited for $X$? Why?\n",
    "\n",
    "The Binomial distribution is much suited for this variable as it is a Bernoulli with many trials. The lootbox being a trial to get an elixr."
   ]
  },
  {
   "cell_type": "markdown",
   "metadata": {},
   "source": [
    "**NOTE**: When your Jupyter notebook is open, double-click on this Markdown cell! You can delete this text and put your answer to the previous problem in here."
   ]
  },
  {
   "cell_type": "markdown",
   "metadata": {},
   "source": [
    "#### 3c. Our boss asks, \"If a user earns 100 loot boxes, what is the chance that a user gets more than 20 elixirs?\" Use the probability mass function to answer the boss' question."
   ]
  },
  {
   "cell_type": "code",
   "execution_count": 3,
   "metadata": {},
   "outputs": [
    {
     "data": {
      "text/plain": [
       "Text(0, 0.5, 'Probability of Elixr')"
      ]
     },
     "execution_count": 3,
     "metadata": {},
     "output_type": "execute_result"
    },
    {
     "data": {
      "image/png": "[encoded data removed]",
      "text/plain": [
       "<Figure size 432x288 with 1 Axes>"
      ]
     },
     "metadata": {
      "needs_background": "light"
     },
     "output_type": "display_data"
    }
   ],
   "source": [
    "# Show your work; leave your answer in a comment.\n",
    "import numpy as np\n",
    "prob_elixr = 0.15\n",
    "n_buys = 100\n",
    "\n",
    "elixr_dist = stats.binom(n_buys, prob_elixr)\n",
    "#probability mass function\n",
    "elixr_dist.pmf(100)\n",
    "\n",
    "\n",
    "elixr_outcomes = list(range(0,100))\n",
    "plt.bar(elixr_outcomes, elixr_dist.pmf(elixr_outcomes))\n",
    "plt.xlabel('Number of Elixrs')\n",
    "plt.ylabel('Probability of Elixr')"
   ]
  },
  {
   "cell_type": "markdown",
   "metadata": {},
   "source": [
    "#### 3d. Our boss asks, \"If a user earns 100 loot boxes, what is the chance that a user gets more than 20 elixirs?\" Use the cumulative distribution function to answer the boss' question."
   ]
  },
  {
   "cell_type": "code",
   "execution_count": 4,
   "metadata": {},
   "outputs": [
    {
     "data": {
      "text/plain": [
       "0.06631976581888166"
      ]
     },
     "execution_count": 4,
     "metadata": {},
     "output_type": "execute_result"
    }
   ],
   "source": [
    "# Show your work; leave your answer in a comment.\n",
    "chance = 1 - elixr_dist.cdf(20)\n",
    "chance"
   ]
  },
  {
   "cell_type": "markdown",
   "metadata": {},
   "source": [
    "#### 3e. Our boss asks, \"If a user earns 100 loot boxes, what is the chance that a user gets more than 20 elixirs?\" Answer your boss' question. *Remember that your boss is not a math-y person!*"
   ]
  },
  {
   "cell_type": "code",
   "execution_count": 5,
   "metadata": {},
   "outputs": [
    {
     "name": "stdout",
     "output_type": "stream",
     "text": [
      "The chance that a user gets more than 20 elixirs is 6.632 %\n"
     ]
    }
   ],
   "source": [
    "print(f\"The chance that a user gets more than 20 elixirs is {np.round(chance*100,3)} %\")"
   ]
  },
  {
   "cell_type": "markdown",
   "metadata": {},
   "source": [
    "#### 4. Your boss wants to know how many people purchased how many loot boxes last month. \n",
    "> For example, last month, 70% of users did not purchase any loot boxes. 10% of people purchased one loot box. 5% of people purchased two loot boxes... and so on.\n",
    "\n",
    "#### 4a. Recall our discrete distributions: discrete uniform, Bernoulli, binomial, Poisson. Let's suppose my random variable $Y$ counts up how many loot boxes each person purchased through the game last month. What distribution is best suited for $Y$? Why?"
   ]
  },
  {
   "cell_type": "markdown",
   "metadata": {},
   "source": [
    "Since this is a periodic countable measurement a poisson distribution is best suited for this distribution."
   ]
  },
  {
   "cell_type": "markdown",
   "metadata": {},
   "source": [
    "#### 4b. Suppose that, on average, your customers purchased 2.7 loot boxes last month. In order for your revenue to be at least $500,000, at least how many users would you need on your platform? (Round your answer up to the nearest thousand.) "
   ]
  },
  {
   "cell_type": "code",
   "execution_count": 6,
   "metadata": {},
   "outputs": [
    {
     "name": "stdout",
     "output_type": "stream",
     "text": [
      "The users needed on the platform are 186000\n"
     ]
    }
   ],
   "source": [
    "# Show your work; leave your answer in a comment.\n",
    "import math\n",
    "avg_lootboxes_per_customer = 2.7\n",
    "avg_cost_per_customer = 2.7 #Since cost of a lootbox is 1 dollar\n",
    "Revenue = 500000\n",
    "\n",
    "n_customers = math.ceil((Revenue/avg_cost_per_customer)/1000) * 1000\n",
    "print(f\"The users needed on the platform are {n_customers}\")"
   ]
  },
  {
   "cell_type": "markdown",
   "metadata": {},
   "source": [
    "#### 4c. Assume that your platform has the numer of users you mentioned in your last answer. Suppose that your platform calls anyone who purchases 5 or more loot boxes in a month a \"high value user.\" How much money do you expect to have earned from \"high value users?\" How about \"low value users?\""
   ]
  },
  {
   "cell_type": "code",
   "execution_count": 7,
   "metadata": {},
   "outputs": [
    {
     "name": "stdout",
     "output_type": "stream",
     "text": [
      "The money from high value users is $ 143582.91\n",
      "The money from low value users is $ 358617.09\n"
     ]
    }
   ],
   "source": [
    "# Show your work; leave your answer in a comment.\n",
    "n_customers = 186000\n",
    "avg_lootboxes = 2.7\n",
    "revenue = 500000\n",
    "lootboxes_dist = stats.poisson(avg_lootboxes)\n",
    "\n",
    "#High Value users buying 5 or more\n",
    "#inspired by Patricks code\n",
    "boxes_h = list(range(5,20))\n",
    "revenue_h = 0\n",
    "for box in boxes_h:\n",
    "    revenue_h += lootboxes_dist.pmf(box) * n_customers * box\n",
    "print (f\"The money from high value users is $ {round(revenue_h,2)}\")\n",
    "\n",
    "#Low Value users buying 5 or more\n",
    "#inspired by Patricks code\n",
    "boxes_l = list(range(1,5))\n",
    "revenue_l = 0\n",
    "for box in boxes_l:\n",
    "    revenue_l += lootboxes_dist.pmf(box) * n_customers * box\n",
    "print (f\"The money from low value users is $ {round(revenue_l,2)}\")\n"
   ]
  },
  {
   "cell_type": "markdown",
   "metadata": {},
   "source": [
    "#### 4d. Suppose that you want to summarize how many people purchased how many loot boxes last month for your boss. Since your boss isn't math-y, what are 2-4 summary numbers you might use to summarize this for your boss? (Your answers will vary here - use your judgment!)"
   ]
  },
  {
   "cell_type": "markdown",
   "metadata": {},
   "source": [
    "The revenue last month was 500000. In order to achieve this revenue 186,000 customers bought lootboxes. The high value customers who bought 5 or more boxes produced approximately 143582.91 dollars. The low value customers who bought less than 5 boxes produced approximately 358617.09 dollars."
   ]
  },
  {
   "cell_type": "markdown",
   "metadata": {},
   "source": [
    "#### 5. Your boss asks \"How many loot boxes does it take before someone gets their first elixir?\" Using `np.random.choice`, simulate how many loot boxes it takes somone to get their first elixir. \n",
    "- Start an empty list.\n",
    "- Use control flow to have someone open loot boxes repeatedly.\n",
    "- Once they open a loot box containing an elixir, record the number of loot boxes it took in the empty list.\n",
    "- Repeat this process 100,000 times. \n",
    "\n",
    "This simulates how long it takes for someone to open a loot box containing elixir. Share the 5th, 25th, 50th, 75th, and 95th percentiles.\n",
    "\n",
    "> You may find [this documentation](https://docs.scipy.org/doc/numpy/reference/generated/numpy.random.choice.html)  and [this documentation](https://docs.scipy.org/doc/numpy/reference/generated/numpy.percentile.html) helpful."
   ]
  },
  {
   "cell_type": "code",
   "execution_count": 8,
   "metadata": {},
   "outputs": [
    {
     "data": {
      "text/plain": [
       "[0, 0, 0, 0, 0, 0, 0, 0, 0, 0, 0, 0, 0, 0, 0, 0, 0, 1, 1, 1]"
      ]
     },
     "execution_count": 8,
     "metadata": {},
     "output_type": "execute_result"
    }
   ],
   "source": [
    "#Creating a list of possible outcomes with a 15% chance of elixr's\n",
    "possible_outcomes = [0]*17 +[1]*3\n",
    "possible_outcomes"
   ]
  },
  {
   "cell_type": "code",
   "execution_count": 9,
   "metadata": {},
   "outputs": [
    {
     "name": "stdout",
     "output_type": "stream",
     "text": [
      "In 100000 buys of lootboxes 15022 contained elixrs's\n",
      "The average number of tries it took to get an elixr was 7.0\n"
     ]
    }
   ],
   "source": [
    "successes = []  \n",
    "dist = []\n",
    "for i in range(100000):         \n",
    "    elixr = np.random.choice(possible_outcomes)\n",
    "    successes.append(elixr)\n",
    "    if elixr == 1:\n",
    "        dist.append(len(successes))\n",
    "        successes =[]\n",
    "    else:\n",
    "        pass\n",
    "print(f\"In 100000 buys of lootboxes {len(dist)} contained elixrs's\")\n",
    "print(f\"The average number of tries it took to get an elixr was {round(np.mean(dist))}\")"
   ]
  },
  {
   "cell_type": "code",
   "execution_count": 10,
   "metadata": {},
   "outputs": [
    {
     "data": {
      "text/plain": [
       "<matplotlib.axes._subplots.AxesSubplot at 0x1a25768d30>"
      ]
     },
     "execution_count": 10,
     "metadata": {},
     "output_type": "execute_result"
    },
    {
     "data": {
      "image/png": "[encoded data removed]",
      "text/plain": [
       "<Figure size 432x288 with 1 Axes>"
      ]
     },
     "metadata": {
      "needs_background": "light"
     },
     "output_type": "display_data"
    }
   ],
   "source": [
    "#Visualizing the distribution\n",
    "import seaborn as sns\n",
    "sns.distplot(dist)"
   ]
  },
  {
   "cell_type": "markdown",
   "metadata": {},
   "source": [
    "In 100000 buys of lootboxes 14974 contained elixrs's\n",
    "The average number of tries it took to get a lootbox was 7.0"
   ]
  },
  {
   "cell_type": "markdown",
   "metadata": {},
   "source": [
    "### Version 2\n",
    "\n",
    "After a substantial update to the game, suppose every loot box can be opened to reveal *one of four different* items:\n",
    "- magical elixir (occurs 1% of the time, most valuable)\n",
    "- golden pendant (occurs 9% of the time, valuable)\n",
    "- steel armor (occurs 30% of the time, semi-valuable)\n",
    "- bronze coin (occurs 60% of the time, least valuable)"
   ]
  },
  {
   "cell_type": "markdown",
   "metadata": {},
   "source": [
    "#### 6. Suppose you want repeat problem 5 above, but do that for the version 2 loot boxes so you can track how many loot boxes are needed to get each item? (e.g. You'd like to be able to say that on average it takes 10 trials to get a golden pendant, 3 trials to get steel armor, and so on.) What Python datatype is the best way to store this data? Why?"
   ]
  },
  {
   "cell_type": "markdown",
   "metadata": {},
   "source": [
    "**NOTE**: When your Jupyter notebook is open, double-click on this Markdown cell! You can delete this text and put your answer to the previous problem in here."
   ]
  },
  {
   "cell_type": "code",
   "execution_count": 11,
   "metadata": {},
   "outputs": [],
   "source": [
    "#Assigning values to each outcome\n",
    "bronze_coin = 0\n",
    "steel_armor = 1\n",
    "golden_pendant = 2\n",
    "magical_elixr = 3\n",
    "\n",
    "#Creating a list of possible outcomes\n",
    "possible_outcomes = [bronze_coin]*60 +[steel_armor]*30 + [golden_pendant]*9 + [magical_elixr]*1\n",
    "\n",
    "#Creating empty lists for each out\n",
    "successes = []  \n",
    "bronze_dist = []\n",
    "steel_dist = []\n",
    "golden_dist = []\n",
    "magical_dist = []\n",
    "for i in range(100000):         \n",
    "    elixr = np.random.choice(possible_outcomes)\n",
    "    successes.append(elixr)\n",
    "    if elixr == bronze_coin:\n",
    "        bronze_dist.append(i)\n",
    "    elif elixr == steel_armor:\n",
    "        steel_dist.append(i)\n",
    "    elif elixr == golden_pendant:\n",
    "        golden_dist.append(i)\n",
    "    else:\n",
    "        magical_dist.append(i)"
   ]
  },
  {
   "cell_type": "code",
   "execution_count": 12,
   "metadata": {},
   "outputs": [],
   "source": [
    "#creating a function to compute the average tries it takes to get an item\n",
    "def list_distance(b):\n",
    "    distance = []\n",
    "    for i in range(len(b)-1):\n",
    "        dooram = b[i+1] - b[i]\n",
    "        distance.append(dooram)\n",
    "    return np.mean(distance)\n"
   ]
  },
  {
   "cell_type": "code",
   "execution_count": 13,
   "metadata": {},
   "outputs": [
    {
     "name": "stdout",
     "output_type": "stream",
     "text": [
      "The average number of tries it took to get a bronze_coin was 2.0\n",
      "The average number of tries it took to get a stell_armor was 3.0\n",
      "The average number of tries it took to get a golden_pendant was 11.0\n",
      "The average number of tries it took to get a magical_elixr was 102.0\n"
     ]
    }
   ],
   "source": [
    "print(f\"The average number of tries it took to get a bronze_coin was {round(list_distance(bronze_dist))}\")\n",
    "print(f\"The average number of tries it took to get a stell_armor was {round(list_distance(steel_dist))}\")\n",
    "print(f\"The average number of tries it took to get a golden_pendant was {round(list_distance(golden_dist))}\")\n",
    "print(f\"The average number of tries it took to get a magical_elixr was {round(list_distance(magical_dist))}\")"
   ]
  },
  {
   "cell_type": "markdown",
   "metadata": {},
   "source": [
    "#### 7. Suppose you and your boss want to measure whether \"Version 2\" is better than \"Version 1.\" What metrics do you think are important to measure? (Your answers will vary here - use your judgment!)"
   ]
  },
  {
   "cell_type": "markdown",
   "metadata": {},
   "source": [
    "Since in the new version every lootbox assures an item, a user does not feel that the buy/gain of a lootbox was worthless. This keeps the users engaged as opposed to dejected in version 1 when the user only has a 15% chance of getting a valuable elixr in 100 tries. The important metrics to be measured are:\n",
    "\n",
    "*Probability of getting a valuable item\n",
    "\n",
    "*Number of users buying lootboxes\n",
    "\n",
    "*Revenue earned in the month with version 2\n"
   ]
  }
 ],
 "metadata": {
  "kernelspec": {
   "display_name": "Python 3",
   "language": "python",
   "name": "python3"
  },
  "language_info": {
   "codemirror_mode": {
    "name": "ipython",
    "version": 3
   },
   "file_extension": ".py",
   "mimetype": "text/x-python",
   "name": "python",
   "nbconvert_exporter": "python",
   "pygments_lexer": "ipython3",
   "version": "3.7.3"
  }
 },
 "nbformat": 4,
 "nbformat_minor": 2
}
